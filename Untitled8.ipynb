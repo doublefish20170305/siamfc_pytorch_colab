{
  "nbformat": 4,
  "nbformat_minor": 0,
  "metadata": {
    "colab": {
      "name": "Untitled8.ipynb",
      "provenance": [],
      "collapsed_sections": [],
      "include_colab_link": true
    },
    "kernelspec": {
      "name": "python3",
      "display_name": "Python 3"
    },
    "accelerator": "GPU"
  },
  "cells": [
    {
      "cell_type": "markdown",
      "metadata": {
        "id": "view-in-github",
        "colab_type": "text"
      },
      "source": [
        "<a href=\"https://colab.research.google.com/github/doublefish20170305/siamfc_pytorch_colab/blob/master/Untitled8.ipynb\" target=\"_parent\"><img src=\"https://colab.research.google.com/assets/colab-badge.svg\" alt=\"Open In Colab\"/></a>"
      ]
    },
    {
      "cell_type": "code",
      "metadata": {
        "id": "jsIhamothaIv",
        "colab_type": "code",
        "colab": {
          "base_uri": "https://localhost:8080/",
          "height": 122
        },
        "outputId": "18d9fd11-1f87-419c-b5df-8307c9a9fd1d"
      },
      "source": [
        "from google.colab import drive\n",
        "drive.mount('/content/drive')"
      ],
      "execution_count": 1,
      "outputs": [
        {
          "output_type": "stream",
          "text": [
            "Go to this URL in a browser: https://accounts.google.com/o/oauth2/auth?client_id=947318989803-6bn6qk8qdgf4n4g3pfee6491hc0brc4i.apps.googleusercontent.com&redirect_uri=urn%3aietf%3awg%3aoauth%3a2.0%3aoob&response_type=code&scope=email%20https%3a%2f%2fwww.googleapis.com%2fauth%2fdocs.test%20https%3a%2f%2fwww.googleapis.com%2fauth%2fdrive%20https%3a%2f%2fwww.googleapis.com%2fauth%2fdrive.photos.readonly%20https%3a%2f%2fwww.googleapis.com%2fauth%2fpeopleapi.readonly\n",
            "\n",
            "Enter your authorization code:\n",
            "··········\n",
            "Mounted at /content/drive\n"
          ],
          "name": "stdout"
        }
      ]
    },
    {
      "cell_type": "code",
      "metadata": {
        "id": "LK3OHhheiRl-",
        "colab_type": "code",
        "colab": {
          "base_uri": "https://localhost:8080/",
          "height": 34
        },
        "outputId": "d6958174-b6e0-4a08-c338-b26371954aad"
      },
      "source": [
        "!ls"
      ],
      "execution_count": 2,
      "outputs": [
        {
          "output_type": "stream",
          "text": [
            "drive  sample_data\n"
          ],
          "name": "stdout"
        }
      ]
    },
    {
      "cell_type": "code",
      "metadata": {
        "id": "msnGAyV_iWu9",
        "colab_type": "code",
        "colab": {
          "base_uri": "https://localhost:8080/",
          "height": 85
        },
        "outputId": "9e099f22-a386-46e8-aff8-81c8e0c52bd1"
      },
      "source": [
        "%cd drive/My Drive\n",
        "!ls"
      ],
      "execution_count": 4,
      "outputs": [
        {
          "output_type": "stream",
          "text": [
            "/content/drive/My Drive\n",
            " CADA-VAE-PyTorch\t    DaSiamRPN   pysot-toolkit\t   VOT2018.json\n",
            " cfnet_validation_set.zip   Mask_RCNN   SiamFC-PyTorch\n",
            "'Colab Notebooks'\t    pysot       SiamRPNBIG.model\n"
          ],
          "name": "stdout"
        }
      ]
    },
    {
      "cell_type": "code",
      "metadata": {
        "id": "GkOsV98ZijoF",
        "colab_type": "code",
        "colab": {}
      },
      "source": [
        "!rm -r SiamFC-PyTorch/"
      ],
      "execution_count": 0,
      "outputs": []
    },
    {
      "cell_type": "code",
      "metadata": {
        "id": "PmMfLRHJiuk8",
        "colab_type": "code",
        "colab": {
          "base_uri": "https://localhost:8080/",
          "height": 68
        },
        "outputId": "84b10da1-dde0-4077-b67e-2126525c10c1"
      },
      "source": [
        "!ls"
      ],
      "execution_count": 6,
      "outputs": [
        {
          "output_type": "stream",
          "text": [
            " CADA-VAE-PyTorch\t    DaSiamRPN   pysot-toolkit\n",
            " cfnet_validation_set.zip   Mask_RCNN   SiamRPNBIG.model\n",
            "'Colab Notebooks'\t    pysot       VOT2018.json\n"
          ],
          "name": "stdout"
        }
      ]
    },
    {
      "cell_type": "code",
      "metadata": {
        "id": "QeNwnxrjix60",
        "colab_type": "code",
        "colab": {
          "base_uri": "https://localhost:8080/",
          "height": 102
        },
        "outputId": "91f924ee-4900-444d-f3ec-c91afad6d3fb"
      },
      "source": [
        "!git clone https://github.com/StrangerZhang/SiamFC-PyTorch"
      ],
      "execution_count": 7,
      "outputs": [
        {
          "output_type": "stream",
          "text": [
            "Cloning into 'SiamFC-PyTorch'...\n",
            "remote: Enumerating objects: 158, done.\u001b[K\n",
            "remote: Total 158 (delta 0), reused 0 (delta 0), pack-reused 158\n",
            "Receiving objects: 100% (158/158), 40.57 KiB | 191.00 KiB/s, done.\n",
            "Resolving deltas: 100% (88/88), done.\n"
          ],
          "name": "stdout"
        }
      ]
    },
    {
      "cell_type": "code",
      "metadata": {
        "id": "sE0pAjnAi5jE",
        "colab_type": "code",
        "colab": {
          "base_uri": "https://localhost:8080/",
          "height": 34
        },
        "outputId": "2f67099d-b30c-4654-b94d-c7344e482ea7"
      },
      "source": [
        "%cd SiamFC-PyTorch/"
      ],
      "execution_count": 8,
      "outputs": [
        {
          "output_type": "stream",
          "text": [
            "/content/drive/My Drive/SiamFC-PyTorch\n"
          ],
          "name": "stdout"
        }
      ]
    },
    {
      "cell_type": "code",
      "metadata": {
        "id": "vqspyTGqjDe0",
        "colab_type": "code",
        "colab": {}
      },
      "source": [
        "!mkdir models"
      ],
      "execution_count": 0,
      "outputs": []
    },
    {
      "cell_type": "code",
      "metadata": {
        "id": "BJ1sSsJPjXMk",
        "colab_type": "code",
        "colab": {
          "base_uri": "https://localhost:8080/",
          "height": 34
        },
        "outputId": "2bd498ac-df7a-4f19-ec9e-c6921d943c57"
      },
      "source": [
        "%cd models"
      ],
      "execution_count": 10,
      "outputs": [
        {
          "output_type": "stream",
          "text": [
            "/content/drive/My Drive/SiamFC-PyTorch/models\n"
          ],
          "name": "stdout"
        }
      ]
    },
    {
      "cell_type": "code",
      "metadata": {
        "id": "EtaOJEH7jZ18",
        "colab_type": "code",
        "colab": {
          "base_uri": "https://localhost:8080/",
          "height": 204
        },
        "outputId": "cd467e6c-0478-4e59-de5a-3fe6f4e4c520"
      },
      "source": [
        "!wget http://www.robots.ox.ac.uk/%7Eluca/stuff/siam-fc_nets/2016-08-17.net.mat"
      ],
      "execution_count": 14,
      "outputs": [
        {
          "output_type": "stream",
          "text": [
            "--2019-12-17 06:33:14--  http://www.robots.ox.ac.uk/%7Eluca/stuff/siam-fc_nets/2016-08-17.net.mat\n",
            "Resolving www.robots.ox.ac.uk (www.robots.ox.ac.uk)... 129.67.94.2\n",
            "Connecting to www.robots.ox.ac.uk (www.robots.ox.ac.uk)|129.67.94.2|:80... connected.\n",
            "HTTP request sent, awaiting response... 200 OK\n",
            "Length: 8721150 (8.3M)\n",
            "Saving to: ‘2016-08-17.net.mat’\n",
            "\n",
            "2016-08-17.net.mat  100%[===================>]   8.32M  2.94MB/s    in 2.8s    \n",
            "\n",
            "2019-12-17 06:33:18 (2.94 MB/s) - ‘2016-08-17.net.mat’ saved [8721150/8721150]\n",
            "\n"
          ],
          "name": "stdout"
        }
      ]
    },
    {
      "cell_type": "code",
      "metadata": {
        "id": "m_Hyr2vojr1d",
        "colab_type": "code",
        "colab": {
          "base_uri": "https://localhost:8080/",
          "height": 204
        },
        "outputId": "cc0d4377-8564-4278-c942-a53afbf08e51"
      },
      "source": [
        "!wget http://www.robots.ox.ac.uk/%7Eluca/stuff/siam-fc_nets/2016-08-17_gray025.net.mat"
      ],
      "execution_count": 15,
      "outputs": [
        {
          "output_type": "stream",
          "text": [
            "--2019-12-17 06:33:47--  http://www.robots.ox.ac.uk/%7Eluca/stuff/siam-fc_nets/2016-08-17_gray025.net.mat\n",
            "Resolving www.robots.ox.ac.uk (www.robots.ox.ac.uk)... 129.67.94.2\n",
            "Connecting to www.robots.ox.ac.uk (www.robots.ox.ac.uk)|129.67.94.2|:80... connected.\n",
            "HTTP request sent, awaiting response... 200 OK\n",
            "Length: 8719675 (8.3M)\n",
            "Saving to: ‘2016-08-17_gray025.net.mat’\n",
            "\n",
            "2016-08-17_gray025. 100%[===================>]   8.32M  2.94MB/s    in 2.8s    \n",
            "\n",
            "2019-12-17 06:33:50 (2.94 MB/s) - ‘2016-08-17_gray025.net.mat’ saved [8719675/8719675]\n",
            "\n"
          ],
          "name": "stdout"
        }
      ]
    },
    {
      "cell_type": "code",
      "metadata": {
        "id": "2F7rwnngjzv9",
        "colab_type": "code",
        "colab": {
          "base_uri": "https://localhost:8080/",
          "height": 34
        },
        "outputId": "a614a956-91d2-41af-b06e-cd2246a3b7c8"
      },
      "source": [
        "%cd .."
      ],
      "execution_count": 16,
      "outputs": [
        {
          "output_type": "stream",
          "text": [
            "/content/drive/My Drive/SiamFC-PyTorch\n"
          ],
          "name": "stdout"
        }
      ]
    },
    {
      "cell_type": "code",
      "metadata": {
        "id": "uHOxMj6Rj6Yk",
        "colab_type": "code",
        "colab": {
          "base_uri": "https://localhost:8080/",
          "height": 34
        },
        "outputId": "32aa434c-8a72-45c5-a0b3-0292417ab5c7"
      },
      "source": [
        "!python bin/convert_pretrained_model.py"
      ],
      "execution_count": 17,
      "outputs": [
        {
          "output_type": "stream",
          "text": [
            "\r  0% 0/24 [00:00<?, ?it/s]\r100% 24/24 [00:00<00:00, 7624.85it/s]\n"
          ],
          "name": "stdout"
        }
      ]
    },
    {
      "cell_type": "code",
      "metadata": {
        "id": "W0dHlutfj_AT",
        "colab_type": "code",
        "colab": {}
      },
      "source": [
        "!mkdir out video"
      ],
      "execution_count": 0,
      "outputs": []
    },
    {
      "cell_type": "code",
      "metadata": {
        "id": "yugh9FXykUr0",
        "colab_type": "code",
        "colab": {
          "base_uri": "https://localhost:8080/",
          "height": 34
        },
        "outputId": "af26e069-0f2e-4eab-a156-43e03b0a7fb1"
      },
      "source": [
        "%cd video"
      ],
      "execution_count": 19,
      "outputs": [
        {
          "output_type": "stream",
          "text": [
            "/content/drive/My Drive/SiamFC-PyTorch/video\n"
          ],
          "name": "stdout"
        }
      ]
    },
    {
      "cell_type": "code",
      "metadata": {
        "id": "p7VSGnLkkwBc",
        "colab_type": "code",
        "colab": {
          "base_uri": "https://localhost:8080/",
          "height": 204
        },
        "outputId": "1976689c-36e4-4097-b9db-266c084839fb"
      },
      "source": [
        "!wget http://cvlab.hanyang.ac.kr/tracker_benchmark/seq/Basketball.zip"
      ],
      "execution_count": 20,
      "outputs": [
        {
          "output_type": "stream",
          "text": [
            "--2019-12-17 06:38:19--  http://cvlab.hanyang.ac.kr/tracker_benchmark/seq/Basketball.zip\n",
            "Resolving cvlab.hanyang.ac.kr (cvlab.hanyang.ac.kr)... 166.104.143.24\n",
            "Connecting to cvlab.hanyang.ac.kr (cvlab.hanyang.ac.kr)|166.104.143.24|:80... connected.\n",
            "HTTP request sent, awaiting response... 200 OK\n",
            "Length: 53321463 (51M) [application/zip]\n",
            "Saving to: ‘Basketball.zip’\n",
            "\n",
            "Basketball.zip      100%[===================>]  50.85M  2.74MB/s    in 30s     \n",
            "\n",
            "2019-12-17 06:38:51 (1.68 MB/s) - ‘Basketball.zip’ saved [53321463/53321463]\n",
            "\n"
          ],
          "name": "stdout"
        }
      ]
    },
    {
      "cell_type": "code",
      "metadata": {
        "id": "QfsiSCIHk89b",
        "colab_type": "code",
        "colab": {
          "base_uri": "https://localhost:8080/",
          "height": 1000
        },
        "outputId": "da0fb371-69aa-4f74-f498-ee6c3fe76788"
      },
      "source": [
        "!unzip Basketball.zip"
      ],
      "execution_count": 21,
      "outputs": [
        {
          "output_type": "stream",
          "text": [
            "Archive:  Basketball.zip\n",
            "  inflating: Basketball/groundtruth_rect.txt  \n",
            "   creating: Basketball/img/\n",
            "  inflating: Basketball/img/0001.jpg  \n",
            "  inflating: Basketball/img/0002.jpg  \n",
            "  inflating: Basketball/img/0003.jpg  \n",
            "  inflating: Basketball/img/0004.jpg  \n",
            "  inflating: Basketball/img/0005.jpg  \n",
            "  inflating: Basketball/img/0006.jpg  \n",
            "  inflating: Basketball/img/0007.jpg  \n",
            "  inflating: Basketball/img/0008.jpg  \n",
            "  inflating: Basketball/img/0009.jpg  \n",
            "  inflating: Basketball/img/0010.jpg  \n",
            "  inflating: Basketball/img/0011.jpg  \n",
            "  inflating: Basketball/img/0012.jpg  \n",
            "  inflating: Basketball/img/0013.jpg  \n",
            "  inflating: Basketball/img/0014.jpg  \n",
            "  inflating: Basketball/img/0015.jpg  \n",
            "  inflating: Basketball/img/0016.jpg  \n",
            "  inflating: Basketball/img/0017.jpg  \n",
            "  inflating: Basketball/img/0018.jpg  \n",
            "  inflating: Basketball/img/0019.jpg  \n",
            "  inflating: Basketball/img/0020.jpg  \n",
            "  inflating: Basketball/img/0021.jpg  \n",
            "  inflating: Basketball/img/0022.jpg  \n",
            "  inflating: Basketball/img/0023.jpg  \n",
            "  inflating: Basketball/img/0024.jpg  \n",
            "  inflating: Basketball/img/0025.jpg  \n",
            "  inflating: Basketball/img/0026.jpg  \n",
            "  inflating: Basketball/img/0027.jpg  \n",
            "  inflating: Basketball/img/0028.jpg  \n",
            "  inflating: Basketball/img/0029.jpg  \n",
            "  inflating: Basketball/img/0030.jpg  \n",
            "  inflating: Basketball/img/0031.jpg  \n",
            "  inflating: Basketball/img/0032.jpg  \n",
            "  inflating: Basketball/img/0033.jpg  \n",
            "  inflating: Basketball/img/0034.jpg  \n",
            "  inflating: Basketball/img/0035.jpg  \n",
            "  inflating: Basketball/img/0036.jpg  \n",
            "  inflating: Basketball/img/0037.jpg  \n",
            "  inflating: Basketball/img/0038.jpg  \n",
            "  inflating: Basketball/img/0039.jpg  \n",
            "  inflating: Basketball/img/0040.jpg  \n",
            "  inflating: Basketball/img/0041.jpg  \n",
            "  inflating: Basketball/img/0042.jpg  \n",
            "  inflating: Basketball/img/0043.jpg  \n",
            "  inflating: Basketball/img/0044.jpg  \n",
            "  inflating: Basketball/img/0045.jpg  \n",
            "  inflating: Basketball/img/0046.jpg  \n",
            "  inflating: Basketball/img/0047.jpg  \n",
            "  inflating: Basketball/img/0048.jpg  \n",
            "  inflating: Basketball/img/0049.jpg  \n",
            "  inflating: Basketball/img/0050.jpg  \n",
            "  inflating: Basketball/img/0051.jpg  \n",
            "  inflating: Basketball/img/0052.jpg  \n",
            "  inflating: Basketball/img/0053.jpg  \n",
            "  inflating: Basketball/img/0054.jpg  \n",
            "  inflating: Basketball/img/0055.jpg  \n",
            "  inflating: Basketball/img/0056.jpg  \n",
            "  inflating: Basketball/img/0057.jpg  \n",
            "  inflating: Basketball/img/0058.jpg  \n",
            "  inflating: Basketball/img/0059.jpg  \n",
            "  inflating: Basketball/img/0060.jpg  \n",
            "  inflating: Basketball/img/0061.jpg  \n",
            "  inflating: Basketball/img/0062.jpg  \n",
            "  inflating: Basketball/img/0063.jpg  \n",
            "  inflating: Basketball/img/0064.jpg  \n",
            "  inflating: Basketball/img/0065.jpg  \n",
            "  inflating: Basketball/img/0066.jpg  \n",
            "  inflating: Basketball/img/0067.jpg  \n",
            "  inflating: Basketball/img/0068.jpg  \n",
            "  inflating: Basketball/img/0069.jpg  \n",
            "  inflating: Basketball/img/0070.jpg  \n",
            "  inflating: Basketball/img/0071.jpg  \n",
            "  inflating: Basketball/img/0072.jpg  \n",
            "  inflating: Basketball/img/0073.jpg  \n",
            "  inflating: Basketball/img/0074.jpg  \n",
            "  inflating: Basketball/img/0075.jpg  \n",
            "  inflating: Basketball/img/0076.jpg  \n",
            "  inflating: Basketball/img/0077.jpg  \n",
            "  inflating: Basketball/img/0078.jpg  \n",
            "  inflating: Basketball/img/0079.jpg  \n",
            "  inflating: Basketball/img/0080.jpg  \n",
            "  inflating: Basketball/img/0081.jpg  \n",
            "  inflating: Basketball/img/0082.jpg  \n",
            "  inflating: Basketball/img/0083.jpg  \n",
            "  inflating: Basketball/img/0084.jpg  \n",
            "  inflating: Basketball/img/0085.jpg  \n",
            "  inflating: Basketball/img/0086.jpg  \n",
            "  inflating: Basketball/img/0087.jpg  \n",
            "  inflating: Basketball/img/0088.jpg  \n",
            "  inflating: Basketball/img/0089.jpg  \n",
            "  inflating: Basketball/img/0090.jpg  \n",
            "  inflating: Basketball/img/0091.jpg  \n",
            "  inflating: Basketball/img/0092.jpg  \n",
            "  inflating: Basketball/img/0093.jpg  \n",
            "  inflating: Basketball/img/0094.jpg  \n",
            "  inflating: Basketball/img/0095.jpg  \n",
            "  inflating: Basketball/img/0096.jpg  \n",
            "  inflating: Basketball/img/0097.jpg  \n",
            "  inflating: Basketball/img/0098.jpg  \n",
            "  inflating: Basketball/img/0099.jpg  \n",
            "  inflating: Basketball/img/0100.jpg  \n",
            "  inflating: Basketball/img/0101.jpg  \n",
            "  inflating: Basketball/img/0102.jpg  \n",
            "  inflating: Basketball/img/0103.jpg  \n",
            "  inflating: Basketball/img/0104.jpg  \n",
            "  inflating: Basketball/img/0105.jpg  \n",
            "  inflating: Basketball/img/0106.jpg  \n",
            "  inflating: Basketball/img/0107.jpg  \n",
            "  inflating: Basketball/img/0108.jpg  \n",
            "  inflating: Basketball/img/0109.jpg  \n",
            "  inflating: Basketball/img/0110.jpg  \n",
            "  inflating: Basketball/img/0111.jpg  \n",
            "  inflating: Basketball/img/0112.jpg  \n",
            "  inflating: Basketball/img/0113.jpg  \n",
            "  inflating: Basketball/img/0114.jpg  \n",
            "  inflating: Basketball/img/0115.jpg  \n",
            "  inflating: Basketball/img/0116.jpg  \n",
            "  inflating: Basketball/img/0117.jpg  \n",
            "  inflating: Basketball/img/0118.jpg  \n",
            "  inflating: Basketball/img/0119.jpg  \n",
            "  inflating: Basketball/img/0120.jpg  \n",
            "  inflating: Basketball/img/0121.jpg  \n",
            "  inflating: Basketball/img/0122.jpg  \n",
            "  inflating: Basketball/img/0123.jpg  \n",
            "  inflating: Basketball/img/0124.jpg  \n",
            "  inflating: Basketball/img/0125.jpg  \n",
            "  inflating: Basketball/img/0126.jpg  \n",
            "  inflating: Basketball/img/0127.jpg  \n",
            "  inflating: Basketball/img/0128.jpg  \n",
            "  inflating: Basketball/img/0129.jpg  \n",
            "  inflating: Basketball/img/0130.jpg  \n",
            "  inflating: Basketball/img/0131.jpg  \n",
            "  inflating: Basketball/img/0132.jpg  \n",
            "  inflating: Basketball/img/0133.jpg  \n",
            "  inflating: Basketball/img/0134.jpg  \n",
            "  inflating: Basketball/img/0135.jpg  \n",
            "  inflating: Basketball/img/0136.jpg  \n",
            "  inflating: Basketball/img/0137.jpg  \n",
            "  inflating: Basketball/img/0138.jpg  \n",
            "  inflating: Basketball/img/0139.jpg  \n",
            "  inflating: Basketball/img/0140.jpg  \n",
            "  inflating: Basketball/img/0141.jpg  \n",
            "  inflating: Basketball/img/0142.jpg  \n",
            "  inflating: Basketball/img/0143.jpg  \n",
            "  inflating: Basketball/img/0144.jpg  \n",
            "  inflating: Basketball/img/0145.jpg  \n",
            "  inflating: Basketball/img/0146.jpg  \n",
            "  inflating: Basketball/img/0147.jpg  \n",
            "  inflating: Basketball/img/0148.jpg  \n",
            "  inflating: Basketball/img/0149.jpg  \n",
            "  inflating: Basketball/img/0150.jpg  \n",
            "  inflating: Basketball/img/0151.jpg  \n",
            "  inflating: Basketball/img/0152.jpg  \n",
            "  inflating: Basketball/img/0153.jpg  \n",
            "  inflating: Basketball/img/0154.jpg  \n",
            "  inflating: Basketball/img/0155.jpg  \n",
            "  inflating: Basketball/img/0156.jpg  \n",
            "  inflating: Basketball/img/0157.jpg  \n",
            "  inflating: Basketball/img/0158.jpg  \n",
            "  inflating: Basketball/img/0159.jpg  \n",
            "  inflating: Basketball/img/0160.jpg  \n",
            "  inflating: Basketball/img/0161.jpg  \n",
            "  inflating: Basketball/img/0162.jpg  \n",
            "  inflating: Basketball/img/0163.jpg  \n",
            "  inflating: Basketball/img/0164.jpg  \n",
            "  inflating: Basketball/img/0165.jpg  \n",
            "  inflating: Basketball/img/0166.jpg  \n",
            "  inflating: Basketball/img/0167.jpg  \n",
            "  inflating: Basketball/img/0168.jpg  \n",
            "  inflating: Basketball/img/0169.jpg  \n",
            "  inflating: Basketball/img/0170.jpg  \n",
            "  inflating: Basketball/img/0171.jpg  \n",
            "  inflating: Basketball/img/0172.jpg  \n",
            "  inflating: Basketball/img/0173.jpg  \n",
            "  inflating: Basketball/img/0174.jpg  \n",
            "  inflating: Basketball/img/0175.jpg  \n",
            "  inflating: Basketball/img/0176.jpg  \n",
            "  inflating: Basketball/img/0177.jpg  \n",
            "  inflating: Basketball/img/0178.jpg  \n",
            "  inflating: Basketball/img/0179.jpg  \n",
            "  inflating: Basketball/img/0180.jpg  \n",
            "  inflating: Basketball/img/0181.jpg  \n",
            "  inflating: Basketball/img/0182.jpg  \n",
            "  inflating: Basketball/img/0183.jpg  \n",
            "  inflating: Basketball/img/0184.jpg  \n",
            "  inflating: Basketball/img/0185.jpg  \n",
            "  inflating: Basketball/img/0186.jpg  \n",
            "  inflating: Basketball/img/0187.jpg  \n",
            "  inflating: Basketball/img/0188.jpg  \n",
            "  inflating: Basketball/img/0189.jpg  \n",
            "  inflating: Basketball/img/0190.jpg  \n",
            "  inflating: Basketball/img/0191.jpg  \n",
            "  inflating: Basketball/img/0192.jpg  \n",
            "  inflating: Basketball/img/0193.jpg  \n",
            "  inflating: Basketball/img/0194.jpg  \n",
            "  inflating: Basketball/img/0195.jpg  \n",
            "  inflating: Basketball/img/0196.jpg  \n",
            "  inflating: Basketball/img/0197.jpg  \n",
            "  inflating: Basketball/img/0198.jpg  \n",
            "  inflating: Basketball/img/0199.jpg  \n",
            "  inflating: Basketball/img/0200.jpg  \n",
            "  inflating: Basketball/img/0201.jpg  \n",
            "  inflating: Basketball/img/0202.jpg  \n",
            "  inflating: Basketball/img/0203.jpg  \n",
            "  inflating: Basketball/img/0204.jpg  \n",
            "  inflating: Basketball/img/0205.jpg  \n",
            "  inflating: Basketball/img/0206.jpg  \n",
            "  inflating: Basketball/img/0207.jpg  \n",
            "  inflating: Basketball/img/0208.jpg  \n",
            "  inflating: Basketball/img/0209.jpg  \n",
            "  inflating: Basketball/img/0210.jpg  \n",
            "  inflating: Basketball/img/0211.jpg  \n",
            "  inflating: Basketball/img/0212.jpg  \n",
            "  inflating: Basketball/img/0213.jpg  \n",
            "  inflating: Basketball/img/0214.jpg  \n",
            "  inflating: Basketball/img/0215.jpg  \n",
            "  inflating: Basketball/img/0216.jpg  \n",
            "  inflating: Basketball/img/0217.jpg  \n",
            "  inflating: Basketball/img/0218.jpg  \n",
            "  inflating: Basketball/img/0219.jpg  \n",
            "  inflating: Basketball/img/0220.jpg  \n",
            "  inflating: Basketball/img/0221.jpg  \n",
            "  inflating: Basketball/img/0222.jpg  \n",
            "  inflating: Basketball/img/0223.jpg  \n",
            "  inflating: Basketball/img/0224.jpg  \n",
            "  inflating: Basketball/img/0225.jpg  \n",
            "  inflating: Basketball/img/0226.jpg  \n",
            "  inflating: Basketball/img/0227.jpg  \n",
            "  inflating: Basketball/img/0228.jpg  \n",
            "  inflating: Basketball/img/0229.jpg  \n",
            "  inflating: Basketball/img/0230.jpg  \n",
            "  inflating: Basketball/img/0231.jpg  \n",
            "  inflating: Basketball/img/0232.jpg  \n",
            "  inflating: Basketball/img/0233.jpg  \n",
            "  inflating: Basketball/img/0234.jpg  \n",
            "  inflating: Basketball/img/0235.jpg  \n",
            "  inflating: Basketball/img/0236.jpg  \n",
            "  inflating: Basketball/img/0237.jpg  \n",
            "  inflating: Basketball/img/0238.jpg  \n",
            "  inflating: Basketball/img/0239.jpg  \n",
            "  inflating: Basketball/img/0240.jpg  \n",
            "  inflating: Basketball/img/0241.jpg  \n",
            "  inflating: Basketball/img/0242.jpg  \n",
            "  inflating: Basketball/img/0243.jpg  \n",
            "  inflating: Basketball/img/0244.jpg  \n",
            "  inflating: Basketball/img/0245.jpg  \n",
            "  inflating: Basketball/img/0246.jpg  \n",
            "  inflating: Basketball/img/0247.jpg  \n",
            "  inflating: Basketball/img/0248.jpg  \n",
            "  inflating: Basketball/img/0249.jpg  \n",
            "  inflating: Basketball/img/0250.jpg  \n",
            "  inflating: Basketball/img/0251.jpg  \n",
            "  inflating: Basketball/img/0252.jpg  \n",
            "  inflating: Basketball/img/0253.jpg  \n",
            "  inflating: Basketball/img/0254.jpg  \n",
            "  inflating: Basketball/img/0255.jpg  \n",
            "  inflating: Basketball/img/0256.jpg  \n",
            "  inflating: Basketball/img/0257.jpg  \n",
            "  inflating: Basketball/img/0258.jpg  \n",
            "  inflating: Basketball/img/0259.jpg  \n",
            "  inflating: Basketball/img/0260.jpg  \n",
            "  inflating: Basketball/img/0261.jpg  \n",
            "  inflating: Basketball/img/0262.jpg  \n",
            "  inflating: Basketball/img/0263.jpg  \n",
            "  inflating: Basketball/img/0264.jpg  \n",
            "  inflating: Basketball/img/0265.jpg  \n",
            "  inflating: Basketball/img/0266.jpg  \n",
            "  inflating: Basketball/img/0267.jpg  \n",
            "  inflating: Basketball/img/0268.jpg  \n",
            "  inflating: Basketball/img/0269.jpg  \n",
            "  inflating: Basketball/img/0270.jpg  \n",
            "  inflating: Basketball/img/0271.jpg  \n",
            "  inflating: Basketball/img/0272.jpg  \n",
            "  inflating: Basketball/img/0273.jpg  \n",
            "  inflating: Basketball/img/0274.jpg  \n",
            "  inflating: Basketball/img/0275.jpg  \n",
            "  inflating: Basketball/img/0276.jpg  \n",
            "  inflating: Basketball/img/0277.jpg  \n",
            "  inflating: Basketball/img/0278.jpg  \n",
            "  inflating: Basketball/img/0279.jpg  \n",
            "  inflating: Basketball/img/0280.jpg  \n",
            "  inflating: Basketball/img/0281.jpg  \n",
            "  inflating: Basketball/img/0282.jpg  \n",
            "  inflating: Basketball/img/0283.jpg  \n",
            "  inflating: Basketball/img/0284.jpg  \n",
            "  inflating: Basketball/img/0285.jpg  \n",
            "  inflating: Basketball/img/0286.jpg  \n",
            "  inflating: Basketball/img/0287.jpg  \n",
            "  inflating: Basketball/img/0288.jpg  \n",
            "  inflating: Basketball/img/0289.jpg  \n",
            "  inflating: Basketball/img/0290.jpg  \n",
            "  inflating: Basketball/img/0291.jpg  \n",
            "  inflating: Basketball/img/0292.jpg  \n",
            "  inflating: Basketball/img/0293.jpg  \n",
            "  inflating: Basketball/img/0294.jpg  \n",
            "  inflating: Basketball/img/0295.jpg  \n",
            "  inflating: Basketball/img/0296.jpg  \n",
            "  inflating: Basketball/img/0297.jpg  \n",
            "  inflating: Basketball/img/0298.jpg  \n",
            "  inflating: Basketball/img/0299.jpg  \n",
            "  inflating: Basketball/img/0300.jpg  \n",
            "  inflating: Basketball/img/0301.jpg  \n",
            "  inflating: Basketball/img/0302.jpg  \n",
            "  inflating: Basketball/img/0303.jpg  \n",
            "  inflating: Basketball/img/0304.jpg  \n",
            "  inflating: Basketball/img/0305.jpg  \n",
            "  inflating: Basketball/img/0306.jpg  \n",
            "  inflating: Basketball/img/0307.jpg  \n",
            "  inflating: Basketball/img/0308.jpg  \n",
            "  inflating: Basketball/img/0309.jpg  \n",
            "  inflating: Basketball/img/0310.jpg  \n",
            "  inflating: Basketball/img/0311.jpg  \n",
            "  inflating: Basketball/img/0312.jpg  \n",
            "  inflating: Basketball/img/0313.jpg  \n",
            "  inflating: Basketball/img/0314.jpg  \n",
            "  inflating: Basketball/img/0315.jpg  \n",
            "  inflating: Basketball/img/0316.jpg  \n",
            "  inflating: Basketball/img/0317.jpg  \n",
            "  inflating: Basketball/img/0318.jpg  \n",
            "  inflating: Basketball/img/0319.jpg  \n",
            "  inflating: Basketball/img/0320.jpg  \n",
            "  inflating: Basketball/img/0321.jpg  \n",
            "  inflating: Basketball/img/0322.jpg  \n",
            "  inflating: Basketball/img/0323.jpg  \n",
            "  inflating: Basketball/img/0324.jpg  \n",
            "  inflating: Basketball/img/0325.jpg  \n",
            "  inflating: Basketball/img/0326.jpg  \n",
            "  inflating: Basketball/img/0327.jpg  \n",
            "  inflating: Basketball/img/0328.jpg  \n",
            "  inflating: Basketball/img/0329.jpg  \n",
            "  inflating: Basketball/img/0330.jpg  \n",
            "  inflating: Basketball/img/0331.jpg  \n",
            "  inflating: Basketball/img/0332.jpg  \n",
            "  inflating: Basketball/img/0333.jpg  \n",
            "  inflating: Basketball/img/0334.jpg  \n",
            "  inflating: Basketball/img/0335.jpg  \n",
            "  inflating: Basketball/img/0336.jpg  \n",
            "  inflating: Basketball/img/0337.jpg  \n",
            "  inflating: Basketball/img/0338.jpg  \n",
            "  inflating: Basketball/img/0339.jpg  \n",
            "  inflating: Basketball/img/0340.jpg  \n",
            "  inflating: Basketball/img/0341.jpg  \n",
            "  inflating: Basketball/img/0342.jpg  \n",
            "  inflating: Basketball/img/0343.jpg  \n",
            "  inflating: Basketball/img/0344.jpg  \n",
            "  inflating: Basketball/img/0345.jpg  \n",
            "  inflating: Basketball/img/0346.jpg  \n",
            "  inflating: Basketball/img/0347.jpg  \n",
            "  inflating: Basketball/img/0348.jpg  \n",
            "  inflating: Basketball/img/0349.jpg  \n",
            "  inflating: Basketball/img/0350.jpg  \n",
            "  inflating: Basketball/img/0351.jpg  \n",
            "  inflating: Basketball/img/0352.jpg  \n",
            "  inflating: Basketball/img/0353.jpg  \n",
            "  inflating: Basketball/img/0354.jpg  \n",
            "  inflating: Basketball/img/0355.jpg  \n",
            "  inflating: Basketball/img/0356.jpg  \n",
            "  inflating: Basketball/img/0357.jpg  \n",
            "  inflating: Basketball/img/0358.jpg  \n",
            "  inflating: Basketball/img/0359.jpg  \n",
            "  inflating: Basketball/img/0360.jpg  \n",
            "  inflating: Basketball/img/0361.jpg  \n",
            "  inflating: Basketball/img/0362.jpg  \n",
            "  inflating: Basketball/img/0363.jpg  \n",
            "  inflating: Basketball/img/0364.jpg  \n",
            "  inflating: Basketball/img/0365.jpg  \n",
            "  inflating: Basketball/img/0366.jpg  \n",
            "  inflating: Basketball/img/0367.jpg  \n",
            "  inflating: Basketball/img/0368.jpg  \n",
            "  inflating: Basketball/img/0369.jpg  \n",
            "  inflating: Basketball/img/0370.jpg  \n",
            "  inflating: Basketball/img/0371.jpg  \n",
            "  inflating: Basketball/img/0372.jpg  \n",
            "  inflating: Basketball/img/0373.jpg  \n",
            "  inflating: Basketball/img/0374.jpg  \n",
            "  inflating: Basketball/img/0375.jpg  \n",
            "  inflating: Basketball/img/0376.jpg  \n",
            "  inflating: Basketball/img/0377.jpg  \n",
            "  inflating: Basketball/img/0378.jpg  \n",
            "  inflating: Basketball/img/0379.jpg  \n",
            "  inflating: Basketball/img/0380.jpg  \n",
            "  inflating: Basketball/img/0381.jpg  \n",
            "  inflating: Basketball/img/0382.jpg  \n",
            "  inflating: Basketball/img/0383.jpg  \n",
            "  inflating: Basketball/img/0384.jpg  \n",
            "  inflating: Basketball/img/0385.jpg  \n",
            "  inflating: Basketball/img/0386.jpg  \n",
            "  inflating: Basketball/img/0387.jpg  \n",
            "  inflating: Basketball/img/0388.jpg  \n",
            "  inflating: Basketball/img/0389.jpg  \n",
            "  inflating: Basketball/img/0390.jpg  \n",
            "  inflating: Basketball/img/0391.jpg  \n",
            "  inflating: Basketball/img/0392.jpg  \n",
            "  inflating: Basketball/img/0393.jpg  \n",
            "  inflating: Basketball/img/0394.jpg  \n",
            "  inflating: Basketball/img/0395.jpg  \n",
            "  inflating: Basketball/img/0396.jpg  \n",
            "  inflating: Basketball/img/0397.jpg  \n",
            "  inflating: Basketball/img/0398.jpg  \n",
            "  inflating: Basketball/img/0399.jpg  \n",
            "  inflating: Basketball/img/0400.jpg  \n",
            "  inflating: Basketball/img/0401.jpg  \n",
            "  inflating: Basketball/img/0402.jpg  \n",
            "  inflating: Basketball/img/0403.jpg  \n",
            "  inflating: Basketball/img/0404.jpg  \n",
            "  inflating: Basketball/img/0405.jpg  \n",
            "  inflating: Basketball/img/0406.jpg  \n",
            "  inflating: Basketball/img/0407.jpg  \n",
            "  inflating: Basketball/img/0408.jpg  \n",
            "  inflating: Basketball/img/0409.jpg  \n",
            "  inflating: Basketball/img/0410.jpg  \n",
            "  inflating: Basketball/img/0411.jpg  \n",
            "  inflating: Basketball/img/0412.jpg  \n",
            "  inflating: Basketball/img/0413.jpg  \n",
            "  inflating: Basketball/img/0414.jpg  \n",
            "  inflating: Basketball/img/0415.jpg  \n",
            "  inflating: Basketball/img/0416.jpg  \n",
            "  inflating: Basketball/img/0417.jpg  \n",
            "  inflating: Basketball/img/0418.jpg  \n",
            "  inflating: Basketball/img/0419.jpg  \n",
            "  inflating: Basketball/img/0420.jpg  \n",
            "  inflating: Basketball/img/0421.jpg  \n",
            "  inflating: Basketball/img/0422.jpg  \n",
            "  inflating: Basketball/img/0423.jpg  \n",
            "  inflating: Basketball/img/0424.jpg  \n",
            "  inflating: Basketball/img/0425.jpg  \n",
            "  inflating: Basketball/img/0426.jpg  \n",
            "  inflating: Basketball/img/0427.jpg  \n",
            "  inflating: Basketball/img/0428.jpg  \n",
            "  inflating: Basketball/img/0429.jpg  \n",
            "  inflating: Basketball/img/0430.jpg  \n",
            "  inflating: Basketball/img/0431.jpg  \n",
            "  inflating: Basketball/img/0432.jpg  \n",
            "  inflating: Basketball/img/0433.jpg  \n",
            "  inflating: Basketball/img/0434.jpg  \n",
            "  inflating: Basketball/img/0435.jpg  \n",
            "  inflating: Basketball/img/0436.jpg  \n",
            "  inflating: Basketball/img/0437.jpg  \n",
            "  inflating: Basketball/img/0438.jpg  \n",
            "  inflating: Basketball/img/0439.jpg  \n",
            "  inflating: Basketball/img/0440.jpg  \n",
            "  inflating: Basketball/img/0441.jpg  \n",
            "  inflating: Basketball/img/0442.jpg  \n",
            "  inflating: Basketball/img/0443.jpg  \n",
            "  inflating: Basketball/img/0444.jpg  \n",
            "  inflating: Basketball/img/0445.jpg  \n",
            "  inflating: Basketball/img/0446.jpg  \n",
            "  inflating: Basketball/img/0447.jpg  \n",
            "  inflating: Basketball/img/0448.jpg  \n",
            "  inflating: Basketball/img/0449.jpg  \n",
            "  inflating: Basketball/img/0450.jpg  \n",
            "  inflating: Basketball/img/0451.jpg  \n",
            "  inflating: Basketball/img/0452.jpg  \n",
            "  inflating: Basketball/img/0453.jpg  \n",
            "  inflating: Basketball/img/0454.jpg  \n",
            "  inflating: Basketball/img/0455.jpg  \n",
            "  inflating: Basketball/img/0456.jpg  \n",
            "  inflating: Basketball/img/0457.jpg  \n",
            "  inflating: Basketball/img/0458.jpg  \n",
            "  inflating: Basketball/img/0459.jpg  \n",
            "  inflating: Basketball/img/0460.jpg  \n",
            "  inflating: Basketball/img/0461.jpg  \n",
            "  inflating: Basketball/img/0462.jpg  \n",
            "  inflating: Basketball/img/0463.jpg  \n",
            "  inflating: Basketball/img/0464.jpg  \n",
            "  inflating: Basketball/img/0465.jpg  \n",
            "  inflating: Basketball/img/0466.jpg  \n",
            "  inflating: Basketball/img/0467.jpg  \n",
            "  inflating: Basketball/img/0468.jpg  \n",
            "  inflating: Basketball/img/0469.jpg  \n",
            "  inflating: Basketball/img/0470.jpg  \n",
            "  inflating: Basketball/img/0471.jpg  \n",
            "  inflating: Basketball/img/0472.jpg  \n",
            "  inflating: Basketball/img/0473.jpg  \n",
            "  inflating: Basketball/img/0474.jpg  \n",
            "  inflating: Basketball/img/0475.jpg  \n",
            "  inflating: Basketball/img/0476.jpg  \n",
            "  inflating: Basketball/img/0477.jpg  \n",
            "  inflating: Basketball/img/0478.jpg  \n",
            "  inflating: Basketball/img/0479.jpg  \n",
            "  inflating: Basketball/img/0480.jpg  \n",
            "  inflating: Basketball/img/0481.jpg  \n",
            "  inflating: Basketball/img/0482.jpg  \n",
            "  inflating: Basketball/img/0483.jpg  \n",
            "  inflating: Basketball/img/0484.jpg  \n",
            "  inflating: Basketball/img/0485.jpg  \n",
            "  inflating: Basketball/img/0486.jpg  \n",
            "  inflating: Basketball/img/0487.jpg  \n",
            "  inflating: Basketball/img/0488.jpg  \n",
            "  inflating: Basketball/img/0489.jpg  \n",
            "  inflating: Basketball/img/0490.jpg  \n",
            "  inflating: Basketball/img/0491.jpg  \n",
            "  inflating: Basketball/img/0492.jpg  \n",
            "  inflating: Basketball/img/0493.jpg  \n",
            "  inflating: Basketball/img/0494.jpg  \n",
            "  inflating: Basketball/img/0495.jpg  \n",
            "  inflating: Basketball/img/0496.jpg  \n",
            "  inflating: Basketball/img/0497.jpg  \n",
            "  inflating: Basketball/img/0498.jpg  \n",
            "  inflating: Basketball/img/0499.jpg  \n",
            "  inflating: Basketball/img/0500.jpg  \n",
            "  inflating: Basketball/img/0501.jpg  \n",
            "  inflating: Basketball/img/0502.jpg  \n",
            "  inflating: Basketball/img/0503.jpg  \n",
            "  inflating: Basketball/img/0504.jpg  \n",
            "  inflating: Basketball/img/0505.jpg  \n",
            "  inflating: Basketball/img/0506.jpg  \n",
            "  inflating: Basketball/img/0507.jpg  \n",
            "  inflating: Basketball/img/0508.jpg  \n",
            "  inflating: Basketball/img/0509.jpg  \n",
            "  inflating: Basketball/img/0510.jpg  \n",
            "  inflating: Basketball/img/0511.jpg  \n",
            "  inflating: Basketball/img/0512.jpg  \n",
            "  inflating: Basketball/img/0513.jpg  \n",
            "  inflating: Basketball/img/0514.jpg  \n",
            "  inflating: Basketball/img/0515.jpg  \n",
            "  inflating: Basketball/img/0516.jpg  \n",
            "  inflating: Basketball/img/0517.jpg  \n",
            "  inflating: Basketball/img/0518.jpg  \n",
            "  inflating: Basketball/img/0519.jpg  \n",
            "  inflating: Basketball/img/0520.jpg  \n",
            "  inflating: Basketball/img/0521.jpg  \n",
            "  inflating: Basketball/img/0522.jpg  \n",
            "  inflating: Basketball/img/0523.jpg  \n",
            "  inflating: Basketball/img/0524.jpg  \n",
            "  inflating: Basketball/img/0525.jpg  \n",
            "  inflating: Basketball/img/0526.jpg  \n",
            "  inflating: Basketball/img/0527.jpg  \n",
            "  inflating: Basketball/img/0528.jpg  \n",
            "  inflating: Basketball/img/0529.jpg  \n",
            "  inflating: Basketball/img/0530.jpg  \n",
            "  inflating: Basketball/img/0531.jpg  \n",
            "  inflating: Basketball/img/0532.jpg  \n",
            "  inflating: Basketball/img/0533.jpg  \n",
            "  inflating: Basketball/img/0534.jpg  \n",
            "  inflating: Basketball/img/0535.jpg  \n",
            "  inflating: Basketball/img/0536.jpg  \n",
            "  inflating: Basketball/img/0537.jpg  \n",
            "  inflating: Basketball/img/0538.jpg  \n",
            "  inflating: Basketball/img/0539.jpg  \n",
            "  inflating: Basketball/img/0540.jpg  \n",
            "  inflating: Basketball/img/0541.jpg  \n",
            "  inflating: Basketball/img/0542.jpg  \n",
            "  inflating: Basketball/img/0543.jpg  \n",
            "  inflating: Basketball/img/0544.jpg  \n",
            "  inflating: Basketball/img/0545.jpg  \n",
            "  inflating: Basketball/img/0546.jpg  \n",
            "  inflating: Basketball/img/0547.jpg  \n",
            "  inflating: Basketball/img/0548.jpg  \n",
            "  inflating: Basketball/img/0549.jpg  \n",
            "  inflating: Basketball/img/0550.jpg  \n",
            "  inflating: Basketball/img/0551.jpg  \n",
            "  inflating: Basketball/img/0552.jpg  \n",
            "  inflating: Basketball/img/0553.jpg  \n",
            "  inflating: Basketball/img/0554.jpg  \n",
            "  inflating: Basketball/img/0555.jpg  \n",
            "  inflating: Basketball/img/0556.jpg  \n",
            "  inflating: Basketball/img/0557.jpg  \n",
            "  inflating: Basketball/img/0558.jpg  \n",
            "  inflating: Basketball/img/0559.jpg  \n",
            "  inflating: Basketball/img/0560.jpg  \n",
            "  inflating: Basketball/img/0561.jpg  \n",
            "  inflating: Basketball/img/0562.jpg  \n",
            "  inflating: Basketball/img/0563.jpg  \n",
            "  inflating: Basketball/img/0564.jpg  \n",
            "  inflating: Basketball/img/0565.jpg  \n",
            "  inflating: Basketball/img/0566.jpg  \n",
            "  inflating: Basketball/img/0567.jpg  \n",
            "  inflating: Basketball/img/0568.jpg  \n",
            "  inflating: Basketball/img/0569.jpg  \n",
            "  inflating: Basketball/img/0570.jpg  \n",
            "  inflating: Basketball/img/0571.jpg  \n",
            "  inflating: Basketball/img/0572.jpg  \n",
            "  inflating: Basketball/img/0573.jpg  \n",
            "  inflating: Basketball/img/0574.jpg  \n",
            "  inflating: Basketball/img/0575.jpg  \n",
            "  inflating: Basketball/img/0576.jpg  \n",
            "  inflating: Basketball/img/0577.jpg  \n",
            "  inflating: Basketball/img/0578.jpg  \n",
            "  inflating: Basketball/img/0579.jpg  \n",
            "  inflating: Basketball/img/0580.jpg  \n",
            "  inflating: Basketball/img/0581.jpg  \n",
            "  inflating: Basketball/img/0582.jpg  \n",
            "  inflating: Basketball/img/0583.jpg  \n",
            "  inflating: Basketball/img/0584.jpg  \n",
            "  inflating: Basketball/img/0585.jpg  \n",
            "  inflating: Basketball/img/0586.jpg  \n",
            "  inflating: Basketball/img/0587.jpg  \n",
            "  inflating: Basketball/img/0588.jpg  \n",
            "  inflating: Basketball/img/0589.jpg  \n",
            "  inflating: Basketball/img/0590.jpg  \n",
            "  inflating: Basketball/img/0591.jpg  \n",
            "  inflating: Basketball/img/0592.jpg  \n",
            "  inflating: Basketball/img/0593.jpg  \n",
            "  inflating: Basketball/img/0594.jpg  \n",
            "  inflating: Basketball/img/0595.jpg  \n",
            "  inflating: Basketball/img/0596.jpg  \n",
            "  inflating: Basketball/img/0597.jpg  \n",
            "  inflating: Basketball/img/0598.jpg  \n",
            "  inflating: Basketball/img/0599.jpg  \n",
            "  inflating: Basketball/img/0600.jpg  \n",
            "  inflating: Basketball/img/0601.jpg  \n",
            "  inflating: Basketball/img/0602.jpg  \n",
            "  inflating: Basketball/img/0603.jpg  \n",
            "  inflating: Basketball/img/0604.jpg  \n",
            "  inflating: Basketball/img/0605.jpg  \n",
            "  inflating: Basketball/img/0606.jpg  \n",
            "  inflating: Basketball/img/0607.jpg  \n",
            "  inflating: Basketball/img/0608.jpg  \n",
            "  inflating: Basketball/img/0609.jpg  \n",
            "  inflating: Basketball/img/0610.jpg  \n",
            "  inflating: Basketball/img/0611.jpg  \n",
            "  inflating: Basketball/img/0612.jpg  \n",
            "  inflating: Basketball/img/0613.jpg  \n",
            "  inflating: Basketball/img/0614.jpg  \n",
            "  inflating: Basketball/img/0615.jpg  \n",
            "  inflating: Basketball/img/0616.jpg  \n",
            "  inflating: Basketball/img/0617.jpg  \n",
            "  inflating: Basketball/img/0618.jpg  \n",
            "  inflating: Basketball/img/0619.jpg  \n",
            "  inflating: Basketball/img/0620.jpg  \n",
            "  inflating: Basketball/img/0621.jpg  \n",
            "  inflating: Basketball/img/0622.jpg  \n",
            "  inflating: Basketball/img/0623.jpg  \n",
            "  inflating: Basketball/img/0624.jpg  \n",
            "  inflating: Basketball/img/0625.jpg  \n",
            "  inflating: Basketball/img/0626.jpg  \n",
            "  inflating: Basketball/img/0627.jpg  \n",
            "  inflating: Basketball/img/0628.jpg  \n",
            "  inflating: Basketball/img/0629.jpg  \n",
            "  inflating: Basketball/img/0630.jpg  \n",
            "  inflating: Basketball/img/0631.jpg  \n",
            "  inflating: Basketball/img/0632.jpg  \n",
            "  inflating: Basketball/img/0633.jpg  \n",
            "  inflating: Basketball/img/0634.jpg  \n",
            "  inflating: Basketball/img/0635.jpg  \n",
            "  inflating: Basketball/img/0636.jpg  \n",
            "  inflating: Basketball/img/0637.jpg  \n",
            "  inflating: Basketball/img/0638.jpg  \n",
            "  inflating: Basketball/img/0639.jpg  \n",
            "  inflating: Basketball/img/0640.jpg  \n",
            "  inflating: Basketball/img/0641.jpg  \n",
            "  inflating: Basketball/img/0642.jpg  \n",
            "  inflating: Basketball/img/0643.jpg  \n",
            "  inflating: Basketball/img/0644.jpg  \n",
            "  inflating: Basketball/img/0645.jpg  \n",
            "  inflating: Basketball/img/0646.jpg  \n",
            "  inflating: Basketball/img/0647.jpg  \n",
            "  inflating: Basketball/img/0648.jpg  \n",
            "  inflating: Basketball/img/0649.jpg  \n",
            "  inflating: Basketball/img/0650.jpg  \n",
            "  inflating: Basketball/img/0651.jpg  \n",
            "  inflating: Basketball/img/0652.jpg  \n",
            "  inflating: Basketball/img/0653.jpg  \n",
            "  inflating: Basketball/img/0654.jpg  \n",
            "  inflating: Basketball/img/0655.jpg  \n",
            "  inflating: Basketball/img/0656.jpg  \n",
            "  inflating: Basketball/img/0657.jpg  \n",
            "  inflating: Basketball/img/0658.jpg  \n",
            "  inflating: Basketball/img/0659.jpg  \n",
            "  inflating: Basketball/img/0660.jpg  \n",
            "  inflating: Basketball/img/0661.jpg  \n",
            "  inflating: Basketball/img/0662.jpg  \n",
            "  inflating: Basketball/img/0663.jpg  \n",
            "  inflating: Basketball/img/0664.jpg  \n",
            "  inflating: Basketball/img/0665.jpg  \n",
            "  inflating: Basketball/img/0666.jpg  \n",
            "  inflating: Basketball/img/0667.jpg  \n",
            "  inflating: Basketball/img/0668.jpg  \n",
            "  inflating: Basketball/img/0669.jpg  \n",
            "  inflating: Basketball/img/0670.jpg  \n",
            "  inflating: Basketball/img/0671.jpg  \n",
            "  inflating: Basketball/img/0672.jpg  \n",
            "  inflating: Basketball/img/0673.jpg  \n",
            "  inflating: Basketball/img/0674.jpg  \n",
            "  inflating: Basketball/img/0675.jpg  \n",
            "  inflating: Basketball/img/0676.jpg  \n",
            "  inflating: Basketball/img/0677.jpg  \n",
            "  inflating: Basketball/img/0678.jpg  \n",
            "  inflating: Basketball/img/0679.jpg  \n",
            "  inflating: Basketball/img/0680.jpg  \n",
            "  inflating: Basketball/img/0681.jpg  \n",
            "  inflating: Basketball/img/0682.jpg  \n",
            "  inflating: Basketball/img/0683.jpg  \n",
            "  inflating: Basketball/img/0684.jpg  \n",
            "  inflating: Basketball/img/0685.jpg  \n",
            "  inflating: Basketball/img/0686.jpg  \n",
            "  inflating: Basketball/img/0687.jpg  \n",
            "  inflating: Basketball/img/0688.jpg  \n",
            "  inflating: Basketball/img/0689.jpg  \n",
            "  inflating: Basketball/img/0690.jpg  \n",
            "  inflating: Basketball/img/0691.jpg  \n",
            "  inflating: Basketball/img/0692.jpg  \n",
            "  inflating: Basketball/img/0693.jpg  \n",
            "  inflating: Basketball/img/0694.jpg  \n",
            "  inflating: Basketball/img/0695.jpg  \n",
            "  inflating: Basketball/img/0696.jpg  \n",
            "  inflating: Basketball/img/0697.jpg  \n",
            "  inflating: Basketball/img/0698.jpg  \n",
            "  inflating: Basketball/img/0699.jpg  \n",
            "  inflating: Basketball/img/0700.jpg  \n",
            "  inflating: Basketball/img/0701.jpg  \n",
            "  inflating: Basketball/img/0702.jpg  \n",
            "  inflating: Basketball/img/0703.jpg  \n",
            "  inflating: Basketball/img/0704.jpg  \n",
            "  inflating: Basketball/img/0705.jpg  \n",
            "  inflating: Basketball/img/0706.jpg  \n",
            "  inflating: Basketball/img/0707.jpg  \n",
            "  inflating: Basketball/img/0708.jpg  \n",
            "  inflating: Basketball/img/0709.jpg  \n",
            "  inflating: Basketball/img/0710.jpg  \n",
            "  inflating: Basketball/img/0711.jpg  \n",
            "  inflating: Basketball/img/0712.jpg  \n",
            "  inflating: Basketball/img/0713.jpg  \n",
            "  inflating: Basketball/img/0714.jpg  \n",
            "  inflating: Basketball/img/0715.jpg  \n",
            "  inflating: Basketball/img/0716.jpg  \n",
            "  inflating: Basketball/img/0717.jpg  \n",
            "  inflating: Basketball/img/0718.jpg  \n",
            "  inflating: Basketball/img/0719.jpg  \n",
            "  inflating: Basketball/img/0720.jpg  \n",
            "  inflating: Basketball/img/0721.jpg  \n",
            "  inflating: Basketball/img/0722.jpg  \n",
            "  inflating: Basketball/img/0723.jpg  \n",
            "  inflating: Basketball/img/0724.jpg  \n",
            "  inflating: Basketball/img/0725.jpg  \n"
          ],
          "name": "stdout"
        }
      ]
    },
    {
      "cell_type": "code",
      "metadata": {
        "id": "lSJtu9oYlT9C",
        "colab_type": "code",
        "colab": {
          "base_uri": "https://localhost:8080/",
          "height": 34
        },
        "outputId": "2e03a09f-67d3-4270-e6f3-b387c4a6f1a6"
      },
      "source": [
        "%cd .."
      ],
      "execution_count": 22,
      "outputs": [
        {
          "output_type": "stream",
          "text": [
            "/content/drive/My Drive/SiamFC-PyTorch\n"
          ],
          "name": "stdout"
        }
      ]
    },
    {
      "cell_type": "code",
      "metadata": {
        "id": "7HH--wmmlX-S",
        "colab_type": "code",
        "colab": {
          "base_uri": "https://localhost:8080/",
          "height": 170
        },
        "outputId": "d8174ee0-5b38-48ec-bbd4-607fff7fbe88"
      },
      "source": [
        "!pip install tensorboardX"
      ],
      "execution_count": 26,
      "outputs": [
        {
          "output_type": "stream",
          "text": [
            "Collecting tensorboardX\n",
            "\u001b[?25l  Downloading https://files.pythonhosted.org/packages/a6/5c/e918d9f190baab8d55bad52840d8091dd5114cc99f03eaa6d72d404503cc/tensorboardX-1.9-py2.py3-none-any.whl (190kB)\n",
            "\r\u001b[K     |█▊                              | 10kB 25.8MB/s eta 0:00:01\r\u001b[K     |███▍                            | 20kB 32.6MB/s eta 0:00:01\r\u001b[K     |█████▏                          | 30kB 39.1MB/s eta 0:00:01\r\u001b[K     |██████▉                         | 40kB 43.6MB/s eta 0:00:01\r\u001b[K     |████████▋                       | 51kB 36.8MB/s eta 0:00:01\r\u001b[K     |██████████▎                     | 61kB 40.0MB/s eta 0:00:01\r\u001b[K     |████████████                    | 71kB 28.2MB/s eta 0:00:01\r\u001b[K     |█████████████▊                  | 81kB 30.1MB/s eta 0:00:01\r\u001b[K     |███████████████▌                | 92kB 32.1MB/s eta 0:00:01\r\u001b[K     |█████████████████▏              | 102kB 33.7MB/s eta 0:00:01\r\u001b[K     |███████████████████             | 112kB 33.7MB/s eta 0:00:01\r\u001b[K     |████████████████████▋           | 122kB 33.7MB/s eta 0:00:01\r\u001b[K     |██████████████████████▍         | 133kB 33.7MB/s eta 0:00:01\r\u001b[K     |████████████████████████        | 143kB 33.7MB/s eta 0:00:01\r\u001b[K     |█████████████████████████▊      | 153kB 33.7MB/s eta 0:00:01\r\u001b[K     |███████████████████████████▌    | 163kB 33.7MB/s eta 0:00:01\r\u001b[K     |█████████████████████████████▏  | 174kB 33.7MB/s eta 0:00:01\r\u001b[K     |███████████████████████████████ | 184kB 33.7MB/s eta 0:00:01\r\u001b[K     |████████████████████████████████| 194kB 33.7MB/s \n",
            "\u001b[?25hRequirement already satisfied: numpy in /usr/local/lib/python3.6/dist-packages (from tensorboardX) (1.17.4)\n",
            "Requirement already satisfied: six in /usr/local/lib/python3.6/dist-packages (from tensorboardX) (1.12.0)\n",
            "Requirement already satisfied: protobuf>=3.8.0 in /usr/local/lib/python3.6/dist-packages (from tensorboardX) (3.10.0)\n",
            "Requirement already satisfied: setuptools in /usr/local/lib/python3.6/dist-packages (from protobuf>=3.8.0->tensorboardX) (42.0.2)\n",
            "Installing collected packages: tensorboardX\n",
            "Successfully installed tensorboardX-1.9\n"
          ],
          "name": "stdout"
        }
      ]
    },
    {
      "cell_type": "code",
      "metadata": {
        "id": "TWxAKaxNm9Za",
        "colab_type": "code",
        "colab": {
          "base_uri": "https://localhost:8080/",
          "height": 34
        },
        "outputId": "e8baed98-20e7-4b86-ea4b-aabf1833202f"
      },
      "source": [
        "%cd .."
      ],
      "execution_count": 35,
      "outputs": [
        {
          "output_type": "stream",
          "text": [
            "/content/drive/My Drive\n"
          ],
          "name": "stdout"
        }
      ]
    },
    {
      "cell_type": "code",
      "metadata": {
        "id": "qIcM5nJsrvEZ",
        "colab_type": "code",
        "colab": {
          "base_uri": "https://localhost:8080/",
          "height": 68
        },
        "outputId": "57f514fd-149b-42cf-f1b0-f58a6379292b"
      },
      "source": [
        "!ls"
      ],
      "execution_count": 36,
      "outputs": [
        {
          "output_type": "stream",
          "text": [
            " CADA-VAE-PyTorch\t    DaSiamRPN   pysot-toolkit\t   temp\n",
            " cfnet_validation_set.zip   Mask_RCNN   SiamFC-PyTorch\t   VOT2018.json\n",
            "'Colab Notebooks'\t    pysot       SiamRPNBIG.model\n"
          ],
          "name": "stdout"
        }
      ]
    },
    {
      "cell_type": "code",
      "metadata": {
        "id": "80SJuMP7rzIo",
        "colab_type": "code",
        "colab": {
          "base_uri": "https://localhost:8080/",
          "height": 34
        },
        "outputId": "7efb7545-0b29-4bef-a6d5-aad695841cc6"
      },
      "source": [
        "%cd SiamFC-PyTorch/"
      ],
      "execution_count": 37,
      "outputs": [
        {
          "output_type": "stream",
          "text": [
            "/content/drive/My Drive/SiamFC-PyTorch\n"
          ],
          "name": "stdout"
        }
      ]
    },
    {
      "cell_type": "code",
      "metadata": {
        "id": "qyWqMtjcr2z_",
        "colab_type": "code",
        "colab": {
          "base_uri": "https://localhost:8080/",
          "height": 34
        },
        "outputId": "66af22db-3e3f-47a6-dc25-5a541b02504c"
      },
      "source": [
        "!python bin/demo_siamfc.py  "
      ],
      "execution_count": 40,
      "outputs": [
        {
          "output_type": "stream",
          "text": [
            "速率：113.67220940146908\n"
          ],
          "name": "stdout"
        }
      ]
    }
  ]
}